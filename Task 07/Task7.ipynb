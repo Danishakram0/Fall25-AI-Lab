{
 "cells": [
  {
   "cell_type": "markdown",
   "id": "29477865",
   "metadata": {},
   "source": [
    "### A* ALGORITHM"
   ]
  },
  {
   "cell_type": "code",
   "execution_count": 19,
   "id": "f3686a87",
   "metadata": {},
   "outputs": [
    {
     "name": "stdout",
     "output_type": "stream",
     "text": [
      "Best Route is: ['A', 'B', 'C', 'F']\n",
      "Cost of the best path is: 36\n"
     ]
    }
   ],
   "source": [
    "tree = {\n",
    "    'A': [('B', 8), ('C', 4)],\n",
    "    'B': [('C', 15), ('D', 6), ('E', 17)],\n",
    "    'C': [('E', 12), ('F', 13)],\n",
    "    'D': [('E', 17), ('F', 27)],\n",
    "    'E': [('F', 19)],\n",
    "    'F': []\n",
    "}\n",
    "\n",
    "heuristic = {\n",
    "    'A': 21,\n",
    "    'B': 23,\n",
    "    'C': 27,\n",
    "    'D': 29,\n",
    "    'E': 25,\n",
    "    'F': 0\n",
    "}\n",
    "\n",
    "cost = {'A': 0}\n",
    "\n",
    "def AStarSearch():\n",
    "    global tree, heuristic, cost\n",
    "    closed = []\n",
    "    opened = [['A', heuristic['A']]]\n",
    "\n",
    "    while opened:\n",
    "        fn = [i[1] for i in opened]\n",
    "        chosen_index = fn.index(min(fn))\n",
    "        node = opened[chosen_index][0]\n",
    "        closed.append(opened[chosen_index])\n",
    "        del opened[chosen_index]\n",
    "\n",
    "        if node == 'F':\n",
    "            break\n",
    "\n",
    "        for item in tree.get(node, []):\n",
    "            if item[0] in [c[0] for c in closed]:\n",
    "                continue\n",
    "            cost[item[0]] = cost[node] + item[1]\n",
    "            fn_node = cost[item[0]] + heuristic[item[0]]\n",
    "            opened.append([item[0], fn_node])\n",
    "\n",
    "\n",
    "    trace_node = 'F'\n",
    "    optimal_seq = ['F']\n",
    "    for i in range(len(closed) - 2, -1, -1):\n",
    "        check_node = closed[i][0]\n",
    "        if trace_node in [child[0] for child in tree.get(check_node, [])]:\n",
    "            for child in tree[check_node]:\n",
    "                if child[0] == trace_node and cost[check_node] + child[1] == cost[trace_node]:\n",
    "                    optimal_seq.append(check_node)\n",
    "                    trace_node = check_node\n",
    "                    break\n",
    "\n",
    "    optimal_seq.reverse()\n",
    "    print(\"Best Route is:\", optimal_seq)\n",
    "    print(\"Cost of the best path is:\", cost['F'])\n",
    "\n",
    "\n",
    "AStarSearch()\n"
   ]
  }
 ],
 "metadata": {
  "kernelspec": {
   "display_name": "base",
   "language": "python",
   "name": "python3"
  },
  "language_info": {
   "codemirror_mode": {
    "name": "ipython",
    "version": 3
   },
   "file_extension": ".py",
   "mimetype": "text/x-python",
   "name": "python",
   "nbconvert_exporter": "python",
   "pygments_lexer": "ipython3",
   "version": "3.12.4"
  }
 },
 "nbformat": 4,
 "nbformat_minor": 5
}
