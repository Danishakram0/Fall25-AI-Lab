{
 "cells": [
  {
   "cell_type": "markdown",
   "id": "685c959f",
   "metadata": {},
   "source": [
    "### Al Lab Task 3"
   ]
  },
  {
   "cell_type": "markdown",
   "id": "f94f9815",
   "metadata": {},
   "source": [
    "#### Simple Reflex Agent:"
   ]
  },
  {
   "cell_type": "code",
   "execution_count": null,
   "id": "0606ee9d",
   "metadata": {},
   "outputs": [
    {
     "name": "stdout",
     "output_type": "stream",
     "text": [
      "Living Room: Current temperature = 31°C. Turn on Ac\n",
      "Bedroom: Current temperature = 25°C. Turn off Ac\n",
      "Kitchen: Current temperature = 34°C. Turn on Ac\n",
      "Store Room: Current temperature = 29°C. Turn off Ac\n"
     ]
    }
   ],
   "source": [
    "class SimpleReflexAgent:\n",
    "    def __init__(self, desired_temp):\n",
    "        self.desired_temp = desired_temp \n",
    "    \n",
    "    def perceive(self, current_temp):\n",
    "        return current_temp  \n",
    "    \n",
    "    def act(self, current_temp):\n",
    "        if current_temp > self.desired_temp:\n",
    "            action = \"Turn on Ac\"\n",
    "        else:\n",
    "            action = \"Turn off Ac\"\n",
    "        return action\n",
    "\n",
    "rooms = {\n",
    "    \"Living Room\": 31,\n",
    "    \"Bedroom\": 25,\n",
    "    \"Kitchen\": 34,\n",
    "    \"Store Room\": 29\n",
    "}\n",
    "desired_temp = 30\n",
    "agent = SimpleReflexAgent(desired_temp)\n",
    "\n",
    "\n",
    "for room, temperature in rooms.items():\n",
    "    action = agent.act(temperature)\n",
    "    print(f\"{room}: Current temperature = {temperature}°C. {action}\")\n"
   ]
  },
  {
   "cell_type": "markdown",
   "id": "e60c3b30",
   "metadata": {},
   "source": [
    "#### Model-Based Reflex Agent "
   ]
  },
  {
   "cell_type": "code",
   "execution_count": null,
   "id": "7ab5581e",
   "metadata": {},
   "outputs": [
    {
     "name": "stdout",
     "output_type": "stream",
     "text": [
      "Living Room:\n",
      "Current temperature is: 30 = Turn on AC\n",
      "Current temperature is: 31 = No change needed\n",
      "Current temperature is: 27 = Turn off AC\n",
      "Current temperature is: 33 = Turn on AC\n",
      "Current temperature is: 26 = Turn off AC\n",
      "Bedroom:\n",
      "Current temperature is: 25 = No change needed\n",
      "Current temperature is: 29 = Turn on AC\n",
      "Current temperature is: 31 = No change needed\n",
      "Current temperature is: 33 = No change needed\n",
      "..Temperature Control History..\n",
      "In Living Room, when temperature is 30 = Turn on AC\n",
      "In Living Room, when temperature is 31 = No change needed\n",
      "In Living Room, when temperature is 27 = Turn off AC\n",
      "In Living Room, when temperature is 33 = Turn on AC\n",
      "In Living Room, when temperature is 26 = Turn off AC\n",
      "In Bedroom, when temperature is 25 = No change needed\n",
      "In Bedroom, when temperature is 29 = Turn on AC\n",
      "In Bedroom, when temperature is 31 = No change needed\n",
      "In Bedroom, when temperature is 33 = No change needed\n"
     ]
    }
   ],
   "source": [
    "class ModelBasedReflexAgent:\n",
    "    def __init__(self, desired_temp):\n",
    "        self.desired_temp = desired_temp\n",
    "        self.previous_action = None\n",
    "        self.history = []\n",
    "\n",
    "    def act(self, room, current_temp):\n",
    "        if current_temp > self.desired_temp:\n",
    "            action = \"Turn on AC\"\n",
    "        elif current_temp < self.desired_temp:\n",
    "            action = \"Turn off AC\"\n",
    "        else:\n",
    "            action = \"Temperature is just right\"\n",
    "\n",
    "        if action == self.previous_action:\n",
    "            final_action = \"No change needed\"\n",
    "        else:\n",
    "            final_action = action\n",
    "            self.previous_action = action\n",
    "        self.history.append((room,current_temp,final_action))\n",
    "        return final_action\n",
    "    def show_history(self):\n",
    "        print(\"..Temperature Control History..\")\n",
    "        for room,temp,action in self.history:\n",
    "            print(f\"In {room}, when temperature is {temp} = {action}\")\n",
    "\n",
    "rooms = {\n",
    "    \"Living Room\": [30, 31, 27, 33, 26],\n",
    "    \"Bedroom\": [25, 29, 31, 33],\n",
    "}\n",
    "\n",
    "desired_temp = 28\n",
    "agent = ModelBasedReflexAgent(desired_temp)\n",
    "\n",
    "for room, temps in rooms.items():\n",
    "    print(f\"{room}:\")\n",
    "    for temp in temps:\n",
    "        action = agent.act(room, temp)\n",
    "        print(f\"Current temperature is: {temp} = {action}\")\n",
    "\n",
    "agent.show_history()\n"
   ]
  }
 ],
 "metadata": {
  "kernelspec": {
   "display_name": "Python 3",
   "language": "python",
   "name": "python3"
  },
  "language_info": {
   "codemirror_mode": {
    "name": "ipython",
    "version": 3
   },
   "file_extension": ".py",
   "mimetype": "text/x-python",
   "name": "python",
   "nbconvert_exporter": "python",
   "pygments_lexer": "ipython3",
   "version": "3.14.0a1"
  }
 },
 "nbformat": 4,
 "nbformat_minor": 5
}
